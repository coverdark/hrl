{
 "cells": [
  {
   "cell_type": "code",
   "execution_count": 1,
   "metadata": {},
   "outputs": [],
   "source": [
    "import numpy as np\n",
    "import matplotlib.pyplot as plt \n",
    "from tqdm import tqdm\n",
    "\n",
    "\n",
    "class CliffWalkingEnv:\n",
    "    def __init__(self, ncol, nrow):\n",
    "        self.nrow = nrow\n",
    "        self.ncol = ncol\n",
    "        self.x = 0\n",
    "        self.y = self.nrow - 1\n",
    "\n",
    "    def step(self, action):\n",
    "        change = [[0, -1], [0, 1], [-1, 0], [1, 0]]\n",
    "        self.x = min(self.ncol-1, max(0, self.x+change[action][0]))\n",
    "        self.y = min(self.nrow-1, max(0, self.y+change[action][1]))\n",
    "        next_state = self.y * self.ncol + self.x\n",
    "        reward = -1\n",
    "        done = False\n",
    "\n",
    "        if self.y == self.nrow - 1 and self.x > 0:\n",
    "            done = True\n",
    "            if self.x != self.ncol - 1:\n",
    "                reward = -100\n",
    "        return next_state, reward, done\n",
    "\n",
    "    def reset(self):\n",
    "        self.x = 0\n",
    "        self.y = self.nrow - 1\n",
    "        return self.y * self.ncol + self.x"
   ]
  },
  {
   "cell_type": "code",
   "execution_count": 2,
   "metadata": {},
   "outputs": [],
   "source": [
    "class Sarsa:\n",
    "    def __init__(self, ncol, nrow, eps, alpha, gamma, n_action=4):\n",
    "        self.Q_table = np.zeros((ncol*nrow, n_action))\n",
    "        self.n_action = n_action\n",
    "        self.eps = eps\n",
    "        self.alpha = alpha\n",
    "        self.gamma = gamma\n",
    "\n",
    "    def take_action(self, state):\n",
    "        if np.random.random() < self.eps:\n",
    "            action = np.random.randint(self.n_action)\n",
    "        else:\n",
    "            action = np.argmax(self.Q_table[state])\n",
    "        return action\n",
    "    \n",
    "    def best_action(self, state):\n",
    "        Q_max = np.max(self.Q_table[state])\n",
    "        a = [0 for _ in range(self.n_action)]\n",
    "        for i in range(self.n_action):\n",
    "            if self.Q_table[state, i] == Q_max:\n",
    "                a[i] = 1\n",
    "        return a\n",
    "\n",
    "    def update(self, s0, a0, r, s1, a1):\n",
    "        td_error = r + self.gamma * self.Q_table[s1, a1] - self.Q_table[s0, a0]\n",
    "        self.Q_table[s0, a0] += self.alpha * td_error"
   ]
  },
  {
   "cell_type": "code",
   "execution_count": 3,
   "metadata": {},
   "outputs": [],
   "source": [
    "class NstepSarsa(Sarsa):\n",
    "    def __init__(self, n, ncol, nrow, eps, alpha, gamma, n_action=4):\n",
    "        super().__init__(ncol, nrow, eps, alpha, gamma, n_action)\n",
    "        self.n = n\n",
    "        self.state_list = []\n",
    "        self.action_list = []\n",
    "        self.reward_list = []\n",
    "\n",
    "    def update(self, s0, a0, r, s1, a1, done):\n",
    "        self.state_list.append(s0)\n",
    "        self.action_list.append(a0)\n",
    "        self.reward_list.append(r)\n",
    "\n",
    "        if len(self.state_list) == self.n:\n",
    "            G = self.Q_table[s1, a1]\n",
    "            for i in reversed(range(self.n)):\n",
    "                G = self.gamma * G + self.reward_list[i]\n",
    "                if done and i > 0:\n",
    "                    s = self.state_list[i]\n",
    "                    a = self.action_list[i]\n",
    "                    self.Q_table[s, a] += self.alpha * (G - self.Q_table[s, a])\n",
    "            s = self.state_list.pop(0)\n",
    "            a = self.action_list.pop(0)\n",
    "            self.reward_list.pop(0)\n",
    "            self.Q_table[s, a] += self.alpha * (G - self.Q_table[s, a])\n",
    "        \n",
    "        if done:\n",
    "            self.state_list = []\n",
    "            self.action_list = []\n",
    "            self.reward_list = []\n"
   ]
  },
  {
   "cell_type": "code",
   "execution_count": 4,
   "metadata": {},
   "outputs": [],
   "source": [
    "class QLearning(Sarsa):\n",
    "    def __init__(self, ncol, nrow, eps, alpha, gamma, n_action=4):\n",
    "        super().__init__(ncol, nrow, eps, alpha, gamma, n_action)\n",
    "    \n",
    "    def update(self, s0, a0, r, s1):\n",
    "        td_error = r + self.gamma * self.Q_table[s1].max() - self.Q_table[s0, a0]\n",
    "        self.Q_table[s0, a0] += self.alpha * td_error\n"
   ]
  },
  {
   "cell_type": "code",
   "execution_count": 5,
   "metadata": {},
   "outputs": [
    {
     "name": "stderr",
     "output_type": "stream",
     "text": [
      "Iteration 0: 100%|██████████| 50/50 [00:00<00:00, 540.33it/s, episode=50.0, return=-26.500] \n",
      "Iteration 1: 100%|██████████| 50/50 [00:00<00:00, 1537.85it/s, episode=100.0, return=-35.200]\n",
      "Iteration 2: 100%|██████████| 50/50 [00:00<00:00, 1388.93it/s, episode=150.0, return=-20.100]\n",
      "Iteration 3: 100%|██████████| 50/50 [00:00<00:00, 915.93it/s, episode=200.0, return=-27.200] \n",
      "Iteration 4: 100%|██████████| 50/50 [00:00<00:00, 1287.27it/s, episode=250.0, return=-19.300]\n",
      "Iteration 5: 100%|██████████| 50/50 [00:00<00:00, 1922.95it/s, episode=300.0, return=-27.400]\n",
      "Iteration 6: 100%|██████████| 50/50 [00:00<00:00, 1297.40it/s, episode=350.0, return=-28.000]\n",
      "Iteration 7: 100%|██████████| 50/50 [00:00<00:00, 1612.90it/s, episode=400.0, return=-36.500]\n",
      "Iteration 8: 100%|██████████| 50/50 [00:00<00:00, 1428.51it/s, episode=450.0, return=-27.000]\n",
      "Iteration 9: 100%|██████████| 50/50 [00:00<00:00, 1479.64it/s, episode=500.0, return=-19.100]\n"
     ]
    },
    {
     "data": {
      "image/png": "[encoded data removed]",
      "text/plain": [
       "<Figure size 432x288 with 1 Axes>"
      ]
     },
     "metadata": {
      "needs_background": "light"
     },
     "output_type": "display_data"
    }
   ],
   "source": [
    "ncol = 12\n",
    "nrow = 4\n",
    "env = CliffWalkingEnv(ncol, nrow)\n",
    "np.random.seed(0)\n",
    "eps = 0.1\n",
    "alpha = 0.1\n",
    "gamma = 0.9\n",
    "agent = NstepSarsa(5, ncol, nrow, eps, alpha, gamma)\n",
    "n_episode = 500\n",
    "\n",
    "return_list = []\n",
    "for i in range(10):\n",
    "    with tqdm(total=int(n_episode/10), desc='Iteration %d' % i) as pbar:\n",
    "        for i_episode in range(int(n_episode/10)):\n",
    "            episode_return = 0\n",
    "            state = env.reset()\n",
    "            action = agent.take_action(state)\n",
    "            done = False\n",
    "            while not done:\n",
    "                next_state, reward, done = env.step(action)\n",
    "                next_action = agent.take_action(next_state)\n",
    "                episode_return += reward\n",
    "                agent.update(state, action, reward, next_state, next_action, done)\n",
    "                state = next_state\n",
    "                action = next_action\n",
    "            return_list.append(episode_return)\n",
    "            if (i_episode+1) % 10 == 0:\n",
    "                pbar.set_postfix({'episode': f'{n_episode/10*i+i_episode+1}', \n",
    "                    'return': f'{np.mean(return_list[-10:]):.3f}'})\n",
    "            pbar.update()\n",
    "\n",
    "episode_list = list(range(len(return_list)))\n",
    "plt.plot(episode_list, return_list)\n",
    "plt.show()"
   ]
  },
  {
   "cell_type": "code",
   "execution_count": 6,
   "metadata": {},
   "outputs": [
    {
     "name": "stderr",
     "output_type": "stream",
     "text": [
      "Iteration 0: 100%|██████████| 50/50 [00:00<00:00, 759.30it/s, episode=50.0, return=-26.500] \n",
      "Iteration 1: 100%|██████████| 50/50 [00:00<00:00, 1669.72it/s, episode=100.0, return=-35.200]\n",
      "Iteration 2: 100%|██████████| 50/50 [00:00<00:00, 1509.83it/s, episode=150.0, return=-20.100]\n",
      "Iteration 3: 100%|██████████| 50/50 [00:00<00:00, 1697.29it/s, episode=200.0, return=-27.200]\n",
      "Iteration 4: 100%|██████████| 50/50 [00:00<00:00, 1366.79it/s, episode=250.0, return=-19.300]\n",
      "Iteration 5: 100%|██████████| 50/50 [00:00<00:00, 1237.97it/s, episode=300.0, return=-27.400]\n",
      "Iteration 6: 100%|██████████| 50/50 [00:00<00:00, 1520.56it/s, episode=350.0, return=-28.000]\n",
      "Iteration 7: 100%|██████████| 50/50 [00:00<00:00, 1335.35it/s, episode=400.0, return=-36.500]\n",
      "Iteration 8: 100%|██████████| 50/50 [00:00<00:00, 1561.50it/s, episode=450.0, return=-27.000]\n",
      "Iteration 9: 100%|██████████| 50/50 [00:00<00:00, 1020.21it/s, episode=500.0, return=-19.100]\n"
     ]
    },
    {
     "data": {
      "image/png": "[encoded data removed]",
      "text/plain": [
       "<Figure size 432x288 with 1 Axes>"
      ]
     },
     "metadata": {
      "needs_background": "light"
     },
     "output_type": "display_data"
    }
   ],
   "source": [
    "import rl_utils\n",
    "\n",
    "ncol = 12\n",
    "nrow = 4\n",
    "env = CliffWalkingEnv(ncol, nrow)\n",
    "np.random.seed(0)\n",
    "eps = 0.1\n",
    "alpha = 0.1\n",
    "gamma = 0.9\n",
    "agent = NstepSarsa(5, ncol, nrow, eps, alpha, gamma)\n",
    "n_episode = 500\n",
    "\n",
    "return_list = []\n",
    "@rl_utils.run_episodes(n_episode, return_list)\n",
    "def run_sarsa():\n",
    "    episode_return = 0\n",
    "    state = env.reset()\n",
    "    action = agent.take_action(state)\n",
    "    done = False\n",
    "    while not done:\n",
    "        next_state, reward, done = env.step(action)\n",
    "        next_action = agent.take_action(next_state)\n",
    "        episode_return += reward\n",
    "        agent.update(state, action, reward, next_state, next_action, done)\n",
    "        state = next_state\n",
    "        action = next_action\n",
    "    return episode_return\n",
    "\n",
    "run_sarsa()\n",
    "episode_list = list(range(len(return_list)))\n",
    "plt.plot(episode_list, return_list)\n",
    "plt.show()\n"
   ]
  },
  {
   "cell_type": "code",
   "execution_count": 35,
   "metadata": {},
   "outputs": [
    {
     "name": "stderr",
     "output_type": "stream",
     "text": [
      "Iteration 0: 100%|██████████| 50/50 [00:00<00:00, 909.12it/s, episode=50.0, return=-105.700]\n",
      "Iteration 1: 100%|██████████| 50/50 [00:00<00:00, 1020.41it/s, episode=100.0, return=-70.900]\n",
      "Iteration 2: 100%|██████████| 50/50 [00:00<00:00, 1515.20it/s, episode=150.0, return=-56.500]\n",
      "Iteration 3: 100%|██████████| 50/50 [00:00<00:00, 1612.93it/s, episode=200.0, return=-46.500]\n",
      "Iteration 4: 100%|██████████| 50/50 [00:00<00:00, 1851.82it/s, episode=250.0, return=-40.800]\n",
      "Iteration 5: 100%|██████████| 50/50 [00:00<00:00, 1923.25it/s, episode=300.0, return=-20.400]\n",
      "Iteration 6: 100%|██████████| 50/50 [00:00<00:00, 1772.28it/s, episode=350.0, return=-45.700]\n",
      "Iteration 7: 100%|██████████| 50/50 [00:00<00:00, 2000.20it/s, episode=400.0, return=-32.800]\n",
      "Iteration 8: 100%|██████████| 50/50 [00:00<00:00, 2064.57it/s, episode=450.0, return=-22.700]\n",
      "Iteration 9: 100%|██████████| 50/50 [00:00<00:00, 1923.11it/s, episode=500.0, return=-61.700]\n"
     ]
    },
    {
     "data": {
      "image/png": "[encoded data removed]",
      "text/plain": [
       "<Figure size 432x288 with 1 Axes>"
      ]
     },
     "metadata": {
      "needs_background": "light"
     },
     "output_type": "display_data"
    }
   ],
   "source": [
    "ncol = 12\n",
    "nrow = 4\n",
    "env = CliffWalkingEnv(ncol, nrow)\n",
    "np.random.seed(0)\n",
    "eps = 0.1\n",
    "alpha = 0.1\n",
    "gamma = 0.9\n",
    "agent = QLearning(ncol, nrow, eps, alpha, gamma)\n",
    "n_episode = 500\n",
    "\n",
    "return_list = []\n",
    "for i in range(10):\n",
    "    with tqdm(total=int(n_episode/10), desc='Iteration %d' % i) as pbar:\n",
    "        for i_episode in range(int(n_episode/10)):\n",
    "            episode_return = 0\n",
    "            state = env.reset()\n",
    "            done = False\n",
    "            while not done:\n",
    "                action = agent.take_action(state)\n",
    "                next_state, reward, done = env.step(action)\n",
    "                episode_return += reward\n",
    "                agent.update(state, action, reward, next_state)\n",
    "                state = next_state\n",
    "            return_list.append(episode_return)\n",
    "            if (i_episode+1) % 10 == 0:\n",
    "                pbar.set_postfix({'episode': f'{n_episode/10*i+i_episode+1}', \n",
    "                    'return': f'{np.mean(return_list[-10:]):.3f}'})\n",
    "            pbar.update()\n",
    "\n",
    "episode_list = list(range(len(return_list)))\n",
    "plt.plot(episode_list, return_list)\n",
    "plt.show()"
   ]
  },
  {
   "cell_type": "code",
   "execution_count": 12,
   "metadata": {},
   "outputs": [],
   "source": [
    "def print_agent(agent, env, action_symbol, disasters=[], ends=[]):\n",
    "    for i in range(env.nrow):\n",
    "        for j in range(env.ncol):\n",
    "            state = i * env.ncol + j\n",
    "            if state in disasters:\n",
    "                print('****', end=' ')\n",
    "            elif state in ends:\n",
    "                print('EEEE', end=' ')\n",
    "            else:\n",
    "                state = i * env.ncol + j\n",
    "                a = agent.best_action(state)\n",
    "                pi_str = ''\n",
    "                for k in range(len(action_symbol)):\n",
    "                    if a[k] > 0:\n",
    "                        pi_str += action_symbol[k]\n",
    "                    else:\n",
    "                        pi_str += 'o'\n",
    "                print(pi_str, end=' ')\n",
    "        print()"
   ]
  },
  {
   "cell_type": "code",
   "execution_count": 36,
   "metadata": {},
   "outputs": [
    {
     "name": "stdout",
     "output_type": "stream",
     "text": [
      "^ooo ovoo ovoo ^ooo ^ooo ovoo ooo> ^ooo ^ooo ooo> ooo> ovoo \n",
      "ooo> ooo> ooo> ooo> ooo> ooo> ^ooo ooo> ooo> ooo> ooo> ovoo \n",
      "ooo> ooo> ooo> ooo> ooo> ooo> ooo> ooo> ooo> ooo> ooo> ovoo \n",
      "^ooo **** **** **** **** **** **** **** **** **** **** EEEE \n"
     ]
    }
   ],
   "source": [
    "print_agent(agent, env, ['^', 'v', '<', '>'], disasters=list(range(37, 47)), ends=[47])"
   ]
  }
 ],
 "metadata": {
  "kernelspec": {
   "display_name": "Python 3.8.8 ('base')",
   "language": "python",
   "name": "python3"
  },
  "language_info": {
   "codemirror_mode": {
    "name": "ipython",
    "version": 3
   },
   "file_extension": ".py",
   "mimetype": "text/x-python",
   "name": "python",
   "nbconvert_exporter": "python",
   "pygments_lexer": "ipython3",
   "version": "3.9.12"
  },
  "orig_nbformat": 4,
  "vscode": {
   "interpreter": {
    "hash": "ad2bdc8ecc057115af97d19610ffacc2b4e99fae6737bb82f5d7fb13d2f2c186"
   }
  }
 },
 "nbformat": 4,
 "nbformat_minor": 2
}
